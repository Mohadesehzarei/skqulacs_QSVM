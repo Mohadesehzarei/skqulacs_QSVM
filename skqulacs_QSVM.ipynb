{
  "cells": [
    {
      "cell_type": "markdown",
      "metadata": {
        "id": "view-in-github",
        "colab_type": "text"
      },
      "source": [
        "<a href=\"https://colab.research.google.com/github/Mohadesehzarei/skqulacs_QSVM/blob/main/skqulacs_QSVM.ipynb\" target=\"_parent\"><img src=\"https://colab.research.google.com/assets/colab-badge.svg\" alt=\"Open In Colab\"/></a>"
      ]
    },
    {
      "cell_type": "markdown",
      "id": "7acc2ef1",
      "metadata": {
        "id": "7acc2ef1"
      },
      "source": [
        "Potential of quantum machine learning for solving the real-world problem of cancers classification"
      ]
    },
    {
      "cell_type": "code",
      "execution_count": null,
      "id": "6085b4d4",
      "metadata": {
        "id": "6085b4d4"
      },
      "outputs": [],
      "source": [
        "import pandas as pd\n",
        "import numpy as np\n",
        "from sklearn.model_selection import train_test_split\n",
        "from skfeature.function.similarity_based import fisher_score\n",
        "from imblearn.over_sampling import SMOTE\n",
        "from sklearn.metrics import classification_report\n",
        "from sklearn.metrics import accuracy_score\n",
        "import itertools\n",
        "import matplotlib.pyplot as plt\n",
        "%matplotlib inline\n",
        "\n",
        "#QSVM\n",
        "from skqulacs.circuit.pre_defined import create_yzcx_ansatz\n",
        "from qulacs import QuantumCircuit\n",
        "from qulacsvis import circuit_drawer\n",
        "from skqulacs.qsvm import QSVC"
      ]
    },
    {
      "cell_type": "markdown",
      "id": "a9394ff4",
      "metadata": {
        "id": "a9394ff4"
      },
      "source": [
        "# Expression_DEGs"
      ]
    },
    {
      "cell_type": "code",
      "execution_count": null,
      "id": "04f8a90a",
      "metadata": {
        "id": "04f8a90a"
      },
      "outputs": [],
      "source": [
        "#import Data\n",
        "X = #expression Data\n",
        "y = #class"
      ]
    },
    {
      "cell_type": "code",
      "execution_count": null,
      "id": "9b7b23cd",
      "metadata": {
        "id": "9b7b23cd"
      },
      "outputs": [],
      "source": [
        "# split data to train and test\n",
        "x_train, x_test, y_train, y_test = train_test_split(\n",
        "    X, y, test_size=0.3, random_state=0\n",
        ")\n",
        "x_train_=x_train\n",
        "y_train=np.array(y_train)\n",
        "y_test=np.array(y_test)\n",
        "x_train = x_train.to_numpy()"
      ]
    },
    {
      "cell_type": "markdown",
      "id": "5f13a0b4",
      "metadata": {
        "id": "5f13a0b4"
      },
      "source": [
        "# Fisher score algorithm"
      ]
    },
    {
      "cell_type": "code",
      "execution_count": null,
      "id": "8e92a9d7",
      "metadata": {
        "id": "8e92a9d7"
      },
      "outputs": [],
      "source": [
        "def fisher_score(X, y):\n",
        "    num_features = X.shape[1]\n",
        "    num_classes = len(np.unique(y))\n",
        "\n",
        "    class_means = np.zeros((num_classes, num_features))\n",
        "    class_variances = np.zeros((num_classes, num_features))\n",
        "\n",
        "    for label in range(num_classes):\n",
        "        class_data = X[y == label]\n",
        "        class_means[label] = np.mean(class_data, axis=0)\n",
        "        class_variances[label] = np.var(class_data, axis=0)\n",
        "\n",
        "    grand_mean = np.mean(X, axis=0)\n",
        "\n",
        "    numerator = np.sum((class_means - grand_mean) ** 2, axis=0)\n",
        "    denominator = np.sum(class_variances, axis=0)\n",
        "\n",
        "    fisher_scores = numerator / denominator\n",
        "\n",
        "    return fisher_scores"
      ]
    },
    {
      "cell_type": "code",
      "execution_count": null,
      "id": "ed25675d",
      "metadata": {
        "id": "ed25675d"
      },
      "outputs": [],
      "source": [
        "sel_cols = SelectKBest(fisher_score, k=5)\n",
        "sel_cols.fit(x_train_, y_train_new)\n",
        "sel = x_train_.columns[sel_cols.get_support()]\n",
        "indices = x_train_.columns.get_indexer(sel)\n",
        "x_train_sorted_ = x_train_.iloc[:,indices]\n",
        "x_test_sorted_ = x_test.iloc[:,indices]\n",
        "x_test_sorted = x_test_sorted_.to_numpy()"
      ]
    },
    {
      "cell_type": "markdown",
      "id": "755738ad",
      "metadata": {
        "id": "755738ad"
      },
      "source": [
        "# Quantum Machine Learning (skqulacs-QSVM)"
      ]
    },
    {
      "cell_type": "code",
      "execution_count": null,
      "id": "ce2a2e6a",
      "metadata": {
        "id": "ce2a2e6a"
      },
      "outputs": [],
      "source": [
        "from imblearn.over_sampling import SMOTE\n",
        "smt=SMOTE(k_neighbors=2,random_state=42)\n",
        "x_train_SMOTE_,y_train_SMOTE_=smt.fit_resample(x_train_sorted_, y_train)\n",
        "#x_test_SMOTE,y_test_SMOTE=smt.fit_resample(x_test, y_test)\n",
        "c_depth = 1\n",
        "time_step = 1"
      ]
    },
    {
      "cell_type": "code",
      "execution_count": null,
      "id": "a5c288fd",
      "metadata": {
        "id": "a5c288fd"
      },
      "outputs": [],
      "source": [
        "i= #optimum number of features with the highest accuracy\n",
        "\n",
        "X_train_SMOTE=x_train_SMOTE_.iloc[:,0:i]\n",
        "X_train_SMOTE = X_train_SMOTE.to_numpy()\n",
        "y_train_SMOTE=np.array(y_train_SMOTE_)\n",
        "\n",
        "x_test_sorted=x_test_sorted_.iloc[:,0:i]\n",
        "x_test_sorted = x_test_sorted.to_numpy()"
      ]
    },
    {
      "cell_type": "code",
      "execution_count": null,
      "id": "f29f3ecc",
      "metadata": {
        "id": "f29f3ecc"
      },
      "outputs": [],
      "source": [
        "from sklearn.model_selection import KFold, cross_val_score\n",
        "start = time.time()\n",
        "n_qubit=5\n",
        "\n",
        "x_train_SMOTE = x_train_SMOTE_.to_numpy()\n",
        "y_train_SMOTE=np.array(y_train_SMOTE_)\n",
        "# Requires at least the number of dimensions of x_train. If it is too small, the result will be bad.\n",
        "circuit_yzcx = create_yzcx_ansatz(n_qubit, c_depth)\n",
        "qsvm = QSVC(circuit_yzcx)\n",
        "model=qsvm.fit(x_train_SMOTE, y_train_SMOTE)\n",
        "y_pred = qsvm.predict(x_test_sorted)\n",
        "accuracy=accuracy_score(y_test, y_pred)\n",
        "\n",
        "df=classification_report(y_test,y_pred)\n",
        "print(df)\n",
        "print(accuracy)\n",
        "\n",
        "elapsed = time.time() - start"
      ]
    },
    {
      "cell_type": "code",
      "execution_count": null,
      "id": "51de2e79",
      "metadata": {
        "id": "51de2e79"
      },
      "outputs": [],
      "source": [
        "# plot circuit\n",
        "circuit_drawer(circuit_yzcx._circuit, \"mpl\")\n",
        "plt.show()\n"
      ]
    }
  ],
  "metadata": {
    "kernelspec": {
      "display_name": "Python 3 (ipykernel)",
      "language": "python",
      "name": "python3"
    },
    "language_info": {
      "codemirror_mode": {
        "name": "ipython",
        "version": 3
      },
      "file_extension": ".py",
      "mimetype": "text/x-python",
      "name": "python",
      "nbconvert_exporter": "python",
      "pygments_lexer": "ipython3",
      "version": "3.11.3"
    },
    "colab": {
      "provenance": [],
      "include_colab_link": true
    }
  },
  "nbformat": 4,
  "nbformat_minor": 5
}