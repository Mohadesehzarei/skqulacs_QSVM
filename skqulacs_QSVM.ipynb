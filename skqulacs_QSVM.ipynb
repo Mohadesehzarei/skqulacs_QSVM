{
  "cells": [
    {
      "cell_type": "markdown",
      "metadata": {
        "id": "view-in-github",
        "colab_type": "text"
      },
      "source": [
        "<a href=\"https://colab.research.google.com/github/Mohadesehzarei/skqulacs_QSVM/blob/main/skqulacs_QSVM.ipynb\" target=\"_parent\"><img src=\"https://colab.research.google.com/assets/colab-badge.svg\" alt=\"Open In Colab\"/></a>"
      ]
    },
    {
      "cell_type": "markdown",
      "id": "7acc2ef1",
      "metadata": {
        "id": "7acc2ef1"
      },
      "source": [
        "Potential of quantum machine learning for solving the real-world problem of cancers classification"
      ]
    },
    {
      "cell_type": "code",
      "execution_count": null,
      "id": "6085b4d4",
      "metadata": {
        "id": "6085b4d4"
      },
      "outputs": [],
      "source": [
        "import pandas as pd\n",
        "import numpy as np\n",
        "import time\n",
        "from sklearn.model_selection import train_test_split\n",
        "from skfeature.function.similarity_based import fisher_score\n",
        "from imblearn.over_sampling import SMOTE\n",
        "from sklearn.metrics import f1_score\n",
        "from sklearn import metrics\n",
        "from sklearn.metrics import classification_report\n",
        "from sklearn.metrics import accuracy_score\n",
        "import itertools\n",
        "import matplotlib.pyplot as plt\n",
        "%matplotlib inline\n",
        "\n",
        "#QSVM\n",
        "from skqulacs.circuit.pre_defined import create_yzcx_ansatz\n",
        "from qulacs import QuantumCircuit\n",
        "from qulacsvis import circuit_drawer\n",
        "from skqulacs.qsvm import QSVC"
      ]
    },
    {
      "cell_type": "markdown",
      "id": "a9394ff4",
      "metadata": {
        "id": "a9394ff4"
      },
      "source": [
        "# Expression_DEGs"
      ]
    },
    {
      "cell_type": "code",
      "execution_count": null,
      "id": "04f8a90a",
      "metadata": {
        "id": "04f8a90a"
      },
      "outputs": [],
      "source": [
        "#import Data\n",
        "X = #expression Data\n",
        "y = #class"
      ]
    },
    {
      "cell_type": "code",
      "execution_count": null,
      "id": "9b7b23cd",
      "metadata": {
        "id": "9b7b23cd"
      },
      "outputs": [],
      "source": [
        "# split data to train and test\n",
        "x_train, x_test, y_train, y_test = train_test_split(\n",
        "    X, y, test_size=0.3, random_state=0\n",
        ")\n",
        "x_train_=x_train\n",
        "y_train=np.array(y_train)\n",
        "y_test=np.array(y_test)\n",
        "x_train = x_train.to_numpy()"
      ]
    },
    {
      "cell_type": "markdown",
      "id": "5f13a0b4",
      "metadata": {
        "id": "5f13a0b4"
      },
      "source": [
        "# Ordering features by Fisher score algorithm"
      ]
    },
    {
      "cell_type": "code",
      "execution_count": null,
      "id": "8e92a9d7",
      "metadata": {
        "id": "8e92a9d7"
      },
      "outputs": [],
      "source": [
        "# Calculating scores of features with Fisher score algorithm\n",
        "y_train_new=y_train.reshape(-1)\n",
        "scores = fisher_score.fisher_score(x_train, y_train_new)\n",
        "x_train_sorted_ = x_train_.iloc[:,scores]\n",
        "x_test_sorted_ = x_test.iloc[:,scores]"
      ]
    },
    {
      "cell_type": "code",
      "execution_count": null,
      "id": "ed25675d",
      "metadata": {
        "id": "ed25675d"
      },
      "outputs": [],
      "source": [
        "#SMOTE:oversampling method to solve the imbalance problem\n",
        "smt=SMOTE(k_neighbors=2,random_state=42)\n",
        "x_train_SMOTE_,y_train_SMOTE_=smt.fit_resample(x_train_sorted_, y_train)"
      ]
    },
    {
      "cell_type": "markdown",
      "id": "755738ad",
      "metadata": {
        "id": "755738ad"
      },
      "source": [
        "# Quantum Machine Learning (skqulacs-QSVM)"
      ]
    },
    {
      "cell_type": "code",
      "execution_count": null,
      "id": "ce2a2e6a",
      "metadata": {
        "id": "ce2a2e6a"
      },
      "outputs": [],
      "source": [
        "#Computing accurscy of QSVM for the first 20 features with higher scores obtained by the Fisher method\n",
        "c_depth = 1\n",
        "time_step = 1\n",
        "acc=[]\n",
        "num_features=[]\n",
        "for i in range(1,16):\n",
        "    x_train_SMOTE=x_train_SMOTE_.iloc[:,0:i]\n",
        "    x_train_SMOTE = x_train_SMOTE.to_numpy()\n",
        "    y_train_SMOTE=np.array(y_train_SMOTE_)\n",
        "\n",
        "    x_test_sorted=x_test_sorted_.iloc[:,0:i]\n",
        "    x_test_sorted = x_test_sorted.to_numpy()\n",
        "\n",
        "    n_qubit = i# Requires at least the number of dimensions of x_train. If it is too small, the result will be bad.\n",
        "    circuit_yzcx = create_yzcx_ansatz(n_qubit, c_depth)\n",
        "    qsvm = QSVC(circuit_yzcx)\n",
        "    model=qsvm.fit(x_train_SMOTE, y_train_SMOTE)\n",
        "    y_pred = qsvm.predict(x_test_sorted)\n",
        "    accuracy=accuracy_score(y_test, y_pred)\n",
        "    acc.append(accuracy)\n",
        "    num_features.append(i)\n",
        "\n",
        "plt.figure(figsize=(8,7))\n",
        "\n",
        "plt.plot(num_features, acc, 'o-', linewidth=2.5, linestyle = '--', color='blue')\n",
        "plt.axvline(x=7, color = 'r', linestyle = '-')\n",
        "\n",
        "plt.xlabel('Number of Features', fontsize=16, labelpad=20)\n",
        "plt.ylabel('Accuracy', fontsize=16, labelpad=20)\n",
        "\n",
        "plt.xticks(fontsize=13)\n",
        "plt.yticks(fontsize=13)\n",
        "plt.rcParams.update({'font.family':'cambria'})\n",
        "plt.xlim(1, 16)\n",
        "plt.locator_params(axis='x', nbins=10)\n",
        "\n",
        "\n",
        "plt.show()\n"
      ]
    },
    {
      "cell_type": "code",
      "execution_count": null,
      "id": "a5c288fd",
      "metadata": {
        "id": "a5c288fd"
      },
      "outputs": [],
      "source": [
        "i= #optimum number of features with the highest accuracy\n",
        "\n",
        "X_train_SMOTE=x_train_SMOTE_.iloc[:,0:i]\n",
        "X_train_SMOTE = X_train_SMOTE.to_numpy()\n",
        "y_train_SMOTE=np.array(y_train_SMOTE_)\n",
        "\n",
        "x_test_sorted=x_test_sorted_.iloc[:,0:i]\n",
        "x_test_sorted = x_test_sorted.to_numpy()"
      ]
    },
    {
      "cell_type": "code",
      "execution_count": null,
      "id": "f29f3ecc",
      "metadata": {
        "id": "f29f3ecc"
      },
      "outputs": [],
      "source": [
        "# Constructing QSVM model with the optimum number of features\n",
        "start = time.time()\n",
        "\n",
        "\n",
        "n_qubit = i# Requires at least the number of dimensions of x_train. If it is too small, the result will be bad.\n",
        "circuit_yzcx = create_yzcx_ansatz(n_qubit, c_depth)\n",
        "qsvm = QSVC(circuit_yzcx)\n",
        "model=qsvm.fit(X_train_SMOTE, y_train_SMOTE)\n",
        "y_pred = qsvm.predict(x_test_sorted)\n",
        "accuracy=accuracy_score(y_test, y_pred)\n",
        "\n",
        "df=classification_report(y_test,y_pred)\n",
        "print(df)\n",
        "print(accuracy)\n",
        "\n",
        "elapsed = time.time() - start\n",
        "\n",
        "print(f\"Training time: {(elapsed)} seconds\")"
      ]
    },
    {
      "cell_type": "code",
      "execution_count": null,
      "id": "51de2e79",
      "metadata": {
        "id": "51de2e79"
      },
      "outputs": [],
      "source": [
        "# plot circuit\n",
        "circuit_drawer(circuit_yzcx._circuit, \"mpl\")\n",
        "plt.show()\n"
      ]
    },
    {
      "cell_type": "code",
      "execution_count": null,
      "id": "629ee051",
      "metadata": {
        "id": "629ee051"
      },
      "outputs": [],
      "source": [
        "def plot_classification_report(classificationReport,\n",
        "                               title='Classification report',\n",
        "                               cmap='RdBu'):\n",
        "\n",
        "    classificationReport = classificationReport.replace('\\n\\n', '\\n')\n",
        "    classificationReport = classificationReport.replace(' / ', '/')\n",
        "    lines = classificationReport.split('\\n')\n",
        "\n",
        "    classes, plotMat, support, class_names = [], [], [], []\n",
        "    for line in lines[1:]:  # if you don't want avg/total result, then change [1:] into [1:-1]\n",
        "        t = line.strip().split()\n",
        "        if len(t) < 2:\n",
        "            continue\n",
        "        classes.append(t[0])\n",
        "        v = [float(x) for x in t[1: len(t) - 1]]\n",
        "        support.append(int(t[-1]))\n",
        "        class_names.append(t[0])\n",
        "        plotMat.append(v)\n",
        "\n",
        "    plotMat = np.array(plotMat)\n",
        "    xticklabels = ['Precision', 'Recall', 'F1-score']\n",
        "    yticklabels = ['{0} ({1})'.format(class_names[idx], sup)\n",
        "                   for idx, sup in enumerate(support)]\n",
        "\n",
        "    plt.imshow(plotMat, interpolation='nearest', cmap=cmap, aspect='auto')\n",
        "    plt.title(title)\n",
        "    plt.colorbar()\n",
        "    plt.xticks(np.arange(3), xticklabels, rotation=45)\n",
        "    plt.yticks(np.arange(len(classes)), yticklabels)\n",
        "\n",
        "    upper_thresh = plotMat.min() + (plotMat.max() - plotMat.min()) / 10 * 8\n",
        "    lower_thresh = plotMat.min() + (plotMat.max() - plotMat.min()) / 10 * 2\n",
        "    for i, j in itertools.product(range(plotMat.shape[0]), range(plotMat.shape[1])):\n",
        "        plt.text(j, i, format(plotMat[i, j], '.2f'),\n",
        "                 horizontalalignment=\"center\",\n",
        "                 color=\"white\" if (plotMat[i, j] > upper_thresh or plotMat[i, j] < lower_thresh) else \"black\")\n",
        "\n",
        "    #plt.ylabel('Metrics')\n",
        "    #plt.xlabel('Classes')\n",
        "    plt.tight_layout()"
      ]
    },
    {
      "cell_type": "code",
      "execution_count": null,
      "id": "b99fdd63",
      "metadata": {
        "id": "b99fdd63"
      },
      "outputs": [],
      "source": [
        "sampleClassificationReport = \"\"\"       precision    recall  f1-score   support\n",
        "    normal\n",
        "    tumor\n",
        "weighted_avg       \"\"\"\n",
        "\n",
        "# Plot\n",
        "plt.figure(figsize=(8,7))\n",
        "plt.rcParams.update({'font.size': 18})\n",
        "\n",
        "plot_classification_report(sampleClassificationReport)\n",
        "plt.xticks(fontsize=16)\n",
        "plt.yticks(fontsize=16)\n",
        "plt.rcParams.update({'font.family':'cambria'})\n",
        "\n",
        "plt.show()"
      ]
    },
    {
      "cell_type": "code",
      "execution_count": null,
      "id": "21bfc4a2",
      "metadata": {
        "id": "21bfc4a2"
      },
      "outputs": [],
      "source": [
        "confusion_matrix = metrics.confusion_matrix(y_test, y_pred)\n",
        "\n",
        "confusion_matrix_display = metrics.ConfusionMatrixDisplay(confusion_matrix = confusion_matrix, display_labels = [False, True])\n",
        "\n",
        "# Plot\n",
        "plt.figure(figsize=(8,7))\n",
        "plt.rcParams.update({'font.size': 18})\n",
        "confusion_matrix_display.plot()\n",
        "\n",
        "\n",
        "plt.xticks(fontsize=15)\n",
        "plt.yticks(fontsize=15)\n",
        "plt.rcParams.update({'font.family':'cambria'})\n",
        "\n",
        "plt.show()"
      ]
    },
    {
      "cell_type": "markdown",
      "id": "7767600a",
      "metadata": {
        "id": "7767600a"
      },
      "source": [
        "# Classical Machine Learning (CSVM)"
      ]
    },
    {
      "cell_type": "code",
      "execution_count": null,
      "id": "586150a1",
      "metadata": {
        "id": "586150a1"
      },
      "outputs": [],
      "source": [
        "#Computing accurscy of CSVM for the first 20 features with higher scores obtained by the Fisher method\n",
        "\n",
        "acc=[]\n",
        "num_features=[]\n",
        "\n",
        "for i in range(1,16):\n",
        "    x_train_SMOTE=x_train_SMOTE_.iloc[:,0:i]\n",
        "    x_test_sorted=x_test_sorted_.iloc[:,0:i]\n",
        "\n",
        "    sc = StandardScaler()\n",
        "    sc.fit(x_train_SMOTE)\n",
        "    X_train_std = sc.transform(x_train_SMOTE)\n",
        "    X_test_std = sc.transform(x_test_sorted)\n",
        "\n",
        "# Training a SVM classifier\n",
        "    svc = SVC(kernel= 'linear', random_state=1, C=0.1)\n",
        "    svc.fit(X_train_std, y_train_SMOTE)\n",
        "\n",
        "#  performance\n",
        "\n",
        "    y_pred = svc.predict(X_test_std)\n",
        "    accuracy=accuracy_score(y_test, y_pred)\n",
        "\n",
        "    acc.append(accuracy)\n",
        "    num_features.append(i)\n",
        "\n",
        "# Plot\n",
        "plt.figure(figsize=(8,7))\n",
        "\n",
        "plt.plot(num_features, acc, 'o-', linewidth=2.5, linestyle = '--', color='blue')\n",
        "plt.axvline(x=3, color = 'r', linestyle = '-')\n",
        "\n",
        "plt.xlabel('Number of Features', fontsize=16, labelpad=20)\n",
        "plt.ylabel('Accuracy', fontsize=16, labelpad=20)\n",
        "\n",
        "plt.xticks(fontsize=13)\n",
        "plt.yticks(fontsize=13)\n",
        "plt.rcParams.update({'font.family':'cambria'})\n",
        "plt.xlim(1, 16)\n",
        "plt.locator_params(axis='x', nbins=10)\n",
        "\n",
        "plt.show()\n"
      ]
    },
    {
      "cell_type": "code",
      "execution_count": null,
      "id": "67af1d58",
      "metadata": {
        "id": "67af1d58"
      },
      "outputs": [],
      "source": [
        "i=#optimum number of features with the highest accuracy\n",
        "\n",
        "X_train_SMOTE=x_train_SMOTE_.iloc[:,0:i]\n",
        "X_train_SMOTE = X_train_SMOTE.to_numpy()\n",
        "y_train_SMOTE=np.array(y_train_SMOTE_)\n",
        "\n",
        "x_test_sorted=x_test_sorted_.iloc[:,0:i]\n",
        "x_test_sorted = x_test_sorted.to_numpy()"
      ]
    },
    {
      "cell_type": "code",
      "execution_count": null,
      "id": "b921b924",
      "metadata": {
        "id": "b921b924"
      },
      "outputs": [],
      "source": [
        "# Constructing QSVM model with the optimum number of features\n",
        "\n",
        "start = time.time()\n",
        "\n",
        "sc = StandardScaler()\n",
        "sc.fit(X_train_SMOTE)\n",
        "X_train_std = sc.transform(X_train_SMOTE)\n",
        "X_test_std = sc.transform(x_test_sorted)\n",
        "\n",
        "# Training a SVM classifier\n",
        "svc = SVC(kernel= 'linear', random_state=1, C=0.1)\n",
        "svc.fit(X_train_std, y_train_SMOTE)\n",
        "\n",
        "#  performance\n",
        "\n",
        "y_pred = svc.predict(X_test_std)\n",
        "accuracy=accuracy_score(y_test, y_pred)\n",
        "print(accuracy)\n",
        "elapsed = time.time() - start\n",
        "print(f\"Training time: {(elapsed)} seconds\")"
      ]
    },
    {
      "cell_type": "code",
      "execution_count": null,
      "id": "b4f64092",
      "metadata": {
        "id": "b4f64092"
      },
      "outputs": [],
      "source": [
        "df=classification_report(y_test,y_pred)\n",
        "print(df)"
      ]
    },
    {
      "cell_type": "code",
      "execution_count": null,
      "id": "75e27f36",
      "metadata": {
        "id": "75e27f36"
      },
      "outputs": [],
      "source": [
        "sampleClassificationReport = \"\"\"       precision    recall  f1-score   support\n",
        "\n",
        "      normal\n",
        "       tumor\n",
        "weighted_avg       \"\"\"\n",
        "\n",
        "# Plot\n",
        "plt.figure(figsize=(8,7))\n",
        "plt.rcParams.update({'font.size': 18})\n",
        "\n",
        "plot_classification_report(sampleClassificationReport)\n",
        "\n",
        "\n",
        "plt.xticks(fontsize=16)\n",
        "plt.yticks(fontsize=16)\n",
        "plt.rcParams.update({'font.family':'cambria'})\n",
        "\n",
        "plt.show()"
      ]
    },
    {
      "cell_type": "code",
      "execution_count": null,
      "id": "91aed5db",
      "metadata": {
        "id": "91aed5db"
      },
      "outputs": [],
      "source": [
        "confusion_matrix = metrics.confusion_matrix(y_test, y_pred)\n",
        "\n",
        "confusion_matrix_display = metrics.ConfusionMatrixDisplay(confusion_matrix = confusion_matrix, display_labels = [False, True])\n",
        "\n",
        "# Plot\n",
        "plt.figure(figsize=(8,7))\n",
        "plt.rcParams.update({'font.size': 18})\n",
        "confusion_matrix_display.plot()\n",
        "\n",
        "\n",
        "plt.xticks(fontsize=15)\n",
        "plt.yticks(fontsize=15)\n",
        "plt.rcParams.update({'font.family':'cambria'})\n",
        "\n",
        "plt.show()"
      ]
    },
    {
      "cell_type": "code",
      "execution_count": null,
      "id": "2206e6d1",
      "metadata": {
        "id": "2206e6d1"
      },
      "outputs": [],
      "source": []
    }
  ],
  "metadata": {
    "kernelspec": {
      "display_name": "Python 3 (ipykernel)",
      "language": "python",
      "name": "python3"
    },
    "language_info": {
      "codemirror_mode": {
        "name": "ipython",
        "version": 3
      },
      "file_extension": ".py",
      "mimetype": "text/x-python",
      "name": "python",
      "nbconvert_exporter": "python",
      "pygments_lexer": "ipython3",
      "version": "3.11.3"
    },
    "colab": {
      "provenance": [],
      "include_colab_link": true
    }
  },
  "nbformat": 4,
  "nbformat_minor": 5
}
